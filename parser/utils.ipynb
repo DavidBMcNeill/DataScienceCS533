{
 "cells": [
  {
   "cell_type": "code",
   "execution_count": 10,
   "metadata": {},
   "outputs": [],
   "source": [
    "import pickle\n",
    "import settings\n",
    "import pandas as pd"
   ]
  },
  {
   "cell_type": "code",
   "execution_count": 11,
   "metadata": {},
   "outputs": [
    {
     "name": "stdout",
     "output_type": "stream",
     "text": [
      "$1 - $9999 (Rounded and top-coded***)\n"
     ]
    }
   ],
   "source": [
    "with open(settings.HOUSING_PICKLE, 'rb') as iFile:   \n",
    "    housing_dict = pickle.load(iFile)\n",
    "    print(housing_dict.get('CONP')[1][range(1,9999)])\n",
    "    "
   ]
  },
  {
   "cell_type": "code",
   "execution_count": 22,
   "metadata": {},
   "outputs": [],
   "source": [
    "def create_csv(dataset, col_list=None):\n",
    "    file_loc = '../data/' + dataset +'.csv'\n",
    "    if col_list == None:   \n",
    "        frame = pd.read_csv(file_loc)\n",
    "    else: \n",
    "        frame = pd.read_csv(file_loc, usecols=col_list)\n",
    "    print(frame.head())\n",
    "    "
   ]
  },
  {
   "cell_type": "code",
   "execution_count": 25,
   "metadata": {},
   "outputs": [
    {
     "name": "stdout",
     "output_type": "stream",
     "text": [
      "  RT       SERIALNO\n",
      "0  H  2012000000259\n",
      "1  H  2012000000628\n",
      "2  H  2012000000638\n",
      "3  H  2012000000642\n",
      "4  H  2012000000890\n"
     ]
    }
   ],
   "source": [
    "create_csv('housing', ['RT', 'SERIALNO'])"
   ]
  },
  {
   "cell_type": "code",
   "execution_count": null,
   "metadata": {},
   "outputs": [],
   "source": []
  }
 ],
 "metadata": {
  "kernelspec": {
   "display_name": "Python 3",
   "language": "python",
   "name": "python3"
  },
  "language_info": {
   "codemirror_mode": {
    "name": "ipython",
    "version": 3
   },
   "file_extension": ".py",
   "mimetype": "text/x-python",
   "name": "python",
   "nbconvert_exporter": "python",
   "pygments_lexer": "ipython3",
   "version": "3.6.5"
  }
 },
 "nbformat": 4,
 "nbformat_minor": 2
}
