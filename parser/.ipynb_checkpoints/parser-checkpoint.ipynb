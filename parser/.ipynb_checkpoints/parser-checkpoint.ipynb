{
 "cells": [
  {
   "cell_type": "code",
   "execution_count": 2,
   "metadata": {},
   "outputs": [],
   "source": [
    "#Parsing API \n",
    "# Author: James Souder\n",
    "#------------\n",
    "import re\n",
    "import pickle"
   ]
  },
  {
   "cell_type": "code",
   "execution_count": 3,
   "metadata": {},
   "outputs": [],
   "source": []
  },
  {
   "cell_type": "code",
   "execution_count": 6,
   "metadata": {},
   "outputs": [],
   "source": [
    "def create_decoding_dict(input_txt, pickle_name):\n",
    "    feature_regex = re.compile('[A-Z]+[0-9]*[ ]+[0-9]+') # Locates features in txt file\n",
    "    decoder = {} # dict with feature key and tuple value to hold desc and subdecoder\n",
    "    empty = '\\n' # Stop symbol for subcodes\n",
    "    \n",
    "    with open(input_file) as iFile:\n",
    "        for text in iFile:\n",
    "            match = feature_regex.match(text) # Finds next match\n",
    "            if match: \n",
    "                # Get string portion of match object without whitespace and numbers\n",
    "                key = re.match('[A-Z]*\\d*', match.group(0)).group(0)\n",
    "                desc = iFile.readline().strip() # Feature description\n",
    "                subdecoder = {}\n",
    "                sub = iFile.readline() #Begin reading subcodes\n",
    "                while sub != empty:\n",
    "                    codes = [x.strip() for x in sub.split(\".\")]\n",
    "                    subdecoder[codes[0]] = codes[1]\n",
    "                    sub = iFile.readline()\n",
    "                decoder[key] = tuple(desc, subdecoder) # key maps to tuple containing desc and subdecoder\n",
    "\n",
    "    with open(pickle_name, 'wb') as oPickle:\n",
    "        pickle.dump(decoder, oPickle)"
   ]
  },
  {
   "cell_type": "code",
   "execution_count": null,
   "metadata": {},
   "outputs": [],
   "source": []
  },
  {
   "cell_type": "code",
   "execution_count": null,
   "metadata": {},
   "outputs": [],
   "source": []
  },
  {
   "cell_type": "code",
   "execution_count": null,
   "metadata": {},
   "outputs": [],
   "source": []
  }
 ],
 "metadata": {
  "kernelspec": {
   "display_name": "Python 3",
   "language": "python",
   "name": "python3"
  },
  "language_info": {
   "codemirror_mode": {
    "name": "ipython",
    "version": 3
   },
   "file_extension": ".py",
   "mimetype": "text/x-python",
   "name": "python",
   "nbconvert_exporter": "python",
   "pygments_lexer": "ipython3",
   "version": "3.6.5"
  }
 },
 "nbformat": 4,
 "nbformat_minor": 2
}
