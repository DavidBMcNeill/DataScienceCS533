{
 "cells": [
  {
   "cell_type": "code",
   "execution_count": 1,
   "metadata": {},
   "outputs": [],
   "source": [
    "import pickle\n",
    "import settings\n",
    "import pandas as pd\n",
    "import os\n",
    "from datetime import datetime"
   ]
  },
  {
   "cell_type": "code",
   "execution_count": 14,
   "metadata": {},
   "outputs": [],
   "source": [
    "def create_csv(dataset, col_list=None):\n",
    "    def generate_file_name():\n",
    "        return dataset + datetime.now().strftime('_%m_%d_%y_%H_%M_%S') + '.csv'\n",
    "    \n",
    "    if not os.path.exists(settings.USER_GENERATED_DIR):\n",
    "        os.mkdir(settings.USER_GENERATED_DIR)\n",
    "    file_loc = '../data/' + dataset +'.csv'\n",
    "    \n",
    "    if col_list == None:   \n",
    "        frame = pd.read_csv(file_loc)\n",
    "    else: \n",
    "        frame = pd.read_csv(file_loc, usecols=col_list)\n",
    "    name = generate_file_name()\n",
    "    loc = settings.USER_GENERATED_DIR + name\n",
    "    frame.to_csv(loc)\n",
    "    return loc\n",
    "        \n",
    "    "
   ]
  },
  {
   "cell_type": "code",
   "execution_count": 15,
   "metadata": {},
   "outputs": [
    {
     "data": {
      "text/plain": [
       "'./user_generated/housing_11_06_18_16_16_37.csv'"
      ]
     },
     "execution_count": 15,
     "metadata": {},
     "output_type": "execute_result"
    }
   ],
   "source": [
    "create_csv('housing', ['RT', 'SERIALNO'])"
   ]
  }
 ],
 "metadata": {
  "kernelspec": {
   "display_name": "Python 3",
   "language": "python",
   "name": "python3"
  },
  "language_info": {
   "codemirror_mode": {
    "name": "ipython",
    "version": 3
   },
   "file_extension": ".py",
   "mimetype": "text/x-python",
   "name": "python",
   "nbconvert_exporter": "python",
   "pygments_lexer": "ipython3",
   "version": "3.6.5"
  }
 },
 "nbformat": 4,
 "nbformat_minor": 2
}
