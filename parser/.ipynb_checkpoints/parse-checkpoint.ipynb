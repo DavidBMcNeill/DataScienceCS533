{
 "cells": [
  {
   "cell_type": "code",
   "execution_count": 1,
   "metadata": {},
   "outputs": [],
   "source": [
    "#Parsing API \n",
    "# Author: James Souder\n",
    "#------------\n",
    "\n",
    "import re\n",
    "import pickle\n",
    "import settings"
   ]
  },
  {
   "cell_type": "code",
   "execution_count": 2,
   "metadata": {},
   "outputs": [],
   "source": [
    "REGEX = re.compile(settings.FEATURE_REGEX)"
   ]
  },
  {
   "cell_type": "code",
   "execution_count": 3,
   "metadata": {},
   "outputs": [],
   "source": [
    "def split_data_dictionary():\n",
    "    housing_file = open(settings.HOUSING_TXT, 'w')\n",
    "    person_file = open(settings.PERSON_TXT, 'w')\n",
    "    start_flag = False\n",
    "    split_flag = False\n",
    "    stop_flag = False\n",
    "    \n",
    "    with open(settings.DATA_DICT, 'r') as data_dict: \n",
    "            for text in data_dict:\n",
    "                word = text.strip() # Check without whitespace but keep text for readability\n",
    "                \n",
    "                if word == settings.START_VAL:\n",
    "                    start_flag = True\n",
    "                if  word == settings.SPLIT_VAL: # Found beginning of person record\n",
    "                    split_flag = True\n",
    "                \n",
    "                if split_flag:\n",
    "                    if(word == settings.STOP_VAL): # End of stop flag\n",
    "                        break\n",
    "                    person_file.write(text)\n",
    "                elif start_flag:\n",
    "                    housing_file.write(text)\n",
    "    housing_file.close()\n",
    "    person_file.close()\n",
    "    \n",
    " "
   ]
  },
  {
   "cell_type": "code",
   "execution_count": 4,
   "metadata": {},
   "outputs": [],
   "source": [
    "def create_decoding_dict(input_file, pickle_name):\n",
    "    decoder = {} # dict with feature key and tuple value to hold desc and subdecoder\n",
    "    empty = '\\n' # Stop symbol for subcodes\n",
    "    \n",
    "    with open(input_file) as iFile:\n",
    "        for text in iFile:\n",
    "            match = REGEX.match(text) # Finds next match\n",
    "            #print(match)\n",
    "            if match: \n",
    "                # Get string portion of match object without whitespace and numbers\n",
    "                key = re.match('[A-Z]*\\d*', match.group(0)).group(0)\n",
    "                #print(key)\n",
    "                desc = iFile.readline().strip() # Feature description\n",
    "                subdecoder = {}\n",
    "                sub = iFile.readline() #Begin reading subcodes\n",
    "                while sub != empty:\n",
    "                    codes = [x.strip() for x in sub.split(' .')]\n",
    "                    #print(codes)\n",
    "                    if('..' in codes[0]): #encoding is a range\n",
    "                        low,high = codes[0].split('..')\n",
    "                        #print('match: {} , {}'.format(low,high))\n",
    "                        subdecoder[range(int(low),int(high))] = codes[1] #insert into dict using int range as key\n",
    "                    else:\n",
    "                        subdecoder[codes[0]] = codes[1]\n",
    "                    #print(codes)\n",
    "                    sub = iFile.readline()\n",
    "                decoder[key] = tuple([desc, subdecoder]) # Key maps to tuple containing desc and subdecoder\n",
    "\n",
    "    with open(pickle_name, 'wb') as oPickle:\n",
    "        pickle.dump(decoder, oPickle)"
   ]
  },
  {
   "cell_type": "code",
   "execution_count": 5,
   "metadata": {},
   "outputs": [],
   "source": [
    "split_data_dictionary()"
   ]
  },
  {
   "cell_type": "code",
   "execution_count": 6,
   "metadata": {},
   "outputs": [],
   "source": [
    "create_decoding_dict(settings.HOUSING_TXT, settings.HOUSING_PICKLE)"
   ]
  },
  {
   "cell_type": "code",
   "execution_count": 7,
   "metadata": {},
   "outputs": [],
   "source": [
    "create_decoding_dict(settings.PERSON_TXT, settings.PERSON_PICKLE)"
   ]
  },
  {
   "cell_type": "code",
   "execution_count": 8,
   "metadata": {},
   "outputs": [],
   "source": [
    "### Below is for loading and testing pickles"
   ]
  },
  {
   "cell_type": "code",
   "execution_count": 18,
   "metadata": {},
   "outputs": [
    {
     "name": "stdout",
     "output_type": "stream",
     "text": [
      "$1 - $9999 (Rounded and top-coded***)\n"
     ]
    }
   ],
   "source": [
    "with open(settings.HOUSING_PICKLE, 'rb') as iFile:   \n",
    "    housing_dict = pickle.load(iFile)\n",
    "    print(housing_dict.get('CONP')[1][range(1,9999)])\n",
    "    #print(housing_dict.items())\n",
    "\n",
    "# When decoding between query and dashboard, we will need to check if the subcode key is in the subcode dict,\n",
    "# if not we will need to make a list of subcodes of type range and use the proper range object as a key"
   ]
  },
  {
   "cell_type": "code",
   "execution_count": null,
   "metadata": {},
   "outputs": [],
   "source": []
  }
 ],
 "metadata": {
  "kernelspec": {
   "display_name": "Python 3",
   "language": "python",
   "name": "python3"
  },
  "language_info": {
   "codemirror_mode": {
    "name": "ipython",
    "version": 3
   },
   "file_extension": ".py",
   "mimetype": "text/x-python",
   "name": "python",
   "nbconvert_exporter": "python",
   "pygments_lexer": "ipython3",
   "version": "3.6.5"
  }
 },
 "nbformat": 4,
 "nbformat_minor": 2
}
