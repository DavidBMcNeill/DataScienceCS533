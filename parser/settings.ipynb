{
 "cells": [
  {
   "cell_type": "code",
   "execution_count": 1,
   "metadata": {},
   "outputs": [],
   "source": [
    "# Parser settings\n",
    "# Author: James Souder\n",
    "#-------------------------\n",
    "\n",
    "# Text files for decoding features\n",
    "DATA_DICT = '../docs/data_dict_txt/PUMS_Data_Dictionary_2012-2016.txt'\n",
    "HOUSING_TXT = '../docs/data_dict_txt/housing_record.txt'\n",
    "PERSON_TXT = '../docs/data_dict_txt/person_record.txt'\n",
    "\n",
    "START_VAL = 'HOUSING RECORD'\n",
    "SPLIT_VAL = 'PERSON RECORD'\n",
    "STOP_VAL = 'END NOTES'\n",
    "\n",
    "# Names of pickle storage\n",
    "HOUSING_PICKLE = '../data/housing.pickle'\n",
    "PERSON_PICKLE = '../data/population.pickle'\n",
    "\n",
    "#Regular Expressions\n",
    "FEATURE_REGEX = '[A-Z]+[0-9]*[ ]+[0-9]+' # Locates features in txt file\n",
    "\n",
    "USER_GENERATED_DIR = './user_generated/'\n"
   ]
  },
  {
   "cell_type": "code",
   "execution_count": null,
   "metadata": {},
   "outputs": [],
   "source": []
  }
 ],
 "metadata": {
  "kernelspec": {
   "display_name": "Python 3",
   "language": "python",
   "name": "python3"
  },
  "language_info": {
   "codemirror_mode": {
    "name": "ipython",
    "version": 3
   },
   "file_extension": ".py",
   "mimetype": "text/x-python",
   "name": "python",
   "nbconvert_exporter": "python",
   "pygments_lexer": "ipython3",
   "version": "3.6.5"
  }
 },
 "nbformat": 4,
 "nbformat_minor": 2
}
